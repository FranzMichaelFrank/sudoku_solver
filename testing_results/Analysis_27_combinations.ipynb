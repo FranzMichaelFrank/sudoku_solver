{
 "cells": [
  {
   "cell_type": "markdown",
   "id": "structured-cuisine",
   "metadata": {},
   "source": [
    "# Analysis of the 27 different combinations of selection, crossover and mutation methods"
   ]
  },
  {
   "cell_type": "code",
   "execution_count": 1,
   "id": "dynamic-tonight",
   "metadata": {},
   "outputs": [],
   "source": [
    "import os, shutil\n",
    "import pandas as pd\n",
    "import seaborn as sns\n",
    "import matplotlib.pyplot as plt"
   ]
  },
  {
   "cell_type": "code",
   "execution_count": 2,
   "id": "competent-prediction",
   "metadata": {},
   "outputs": [
    {
     "name": "stdout",
     "output_type": "stream",
     "text": [
      "There are 27 csv files in the directory!\n"
     ]
    }
   ],
   "source": [
    "directory = \"/Users/franz/Downloads/sudoku_solver-main-3/testing_results/27_combinations/\"\n",
    "\n",
    "all_file_names = sorted(os.listdir(directory))\n",
    "try:\n",
    "    all_file_names.remove(\".DS_Store\")\n",
    "except:\n",
    "    pass\n",
    "\n",
    "print(\"There are\", len(all_file_names), \"csv files in the directory!\")"
   ]
  },
  {
   "cell_type": "code",
   "execution_count": 3,
   "id": "black-husband",
   "metadata": {},
   "outputs": [],
   "source": [
    "fps__cycle_co__distinct_mutation = pd.read_csv(directory + \"fps__cycle_co__distinct_mutation.csv\")\n",
    "fps__cycle_co__inversion_mutation = pd.read_csv(directory + \"fps__cycle_co__inversion_mutation.csv\")\n",
    "fps__cycle_co__swap_mutation = pd.read_csv(directory + \"fps__cycle_co__swap_mutation.csv\")\n",
    "fps__pmx_co__distinct_mutation = pd.read_csv(directory + \"fps__pmx_co__distinct_mutation.csv\")\n",
    "fps__pmx_co__inversion_mutation = pd.read_csv(directory + \"fps__pmx_co__inversion_mutation.csv\")\n",
    "fps__pmx_co__swap_mutation = pd.read_csv(directory + \"fps__pmx_co__swap_mutation.csv\")\n",
    "fps__single_point_co__distinct_mutation = pd.read_csv(directory + \"fps__single_point_co__distinct_mutation.csv\")\n",
    "fps__single_point_co__inversion_mutation = pd.read_csv(directory + \"fps__single_point_co__inversion_mutation.csv\")\n",
    "fps__single_point_co__swap_mutation = pd.read_csv(directory + \"fps__single_point_co__swap_mutation.csv\")\n",
    "\n",
    "rank__cycle_co__distinct_mutation = pd.read_csv(directory + \"rank__cycle_co__distinct_mutation.csv\")\n",
    "rank__cycle_co__inversion_mutation = pd.read_csv(directory + \"rank__cycle_co__inversion_mutation.csv\")\n",
    "rank__cycle_co__swap_mutation = pd.read_csv(directory + \"rank__cycle_co__swap_mutation.csv\")\n",
    "rank__pmx_co__distinct_mutation = pd.read_csv(directory + \"rank__pmx_co__distinct_mutation.csv\")\n",
    "rank__pmx_co__inversion_mutation = pd.read_csv(directory + \"rank__pmx_co__inversion_mutation.csv\")\n",
    "rank__pmx_co__swap_mutation = pd.read_csv(directory + \"rank__pmx_co__swap_mutation.csv\")\n",
    "rank__single_point_co__distinct_mutation = pd.read_csv(directory + \"rank__single_point_co__distinct_mutation.csv\")\n",
    "rank__single_point_co__inversion_mutation = pd.read_csv(directory + \"rank__single_point_co__inversion_mutation.csv\")\n",
    "rank__single_point_co__swap_mutation = pd.read_csv(directory + \"rank__single_point_co__swap_mutation.csv\")\n",
    "\n",
    "tournament__cycle_co__distinct_mutation = pd.read_csv(directory + \"tournament__cycle_co__distinct_mutation.csv\")\n",
    "tournament__cycle_co__inversion_mutation = pd.read_csv(directory + \"tournament__cycle_co__inversion_mutation.csv\")\n",
    "tournament__cycle_co__swap_mutation = pd.read_csv(directory + \"tournament__cycle_co__swap_mutation.csv\")\n",
    "tournament__pmx_co__distinct_mutation = pd.read_csv(directory + \"tournament__pmx_co__distinct_mutation.csv\")\n",
    "tournament__pmx_co__inversion_mutation = pd.read_csv(directory + \"tournament__pmx_co__inversion_mutation.csv\")\n",
    "tournament__pmx_co__swap_mutation = pd.read_csv(directory + \"tournament__pmx_co__swap_mutation.csv\")\n",
    "tournament__single_point_co__distinct_mutation = pd.read_csv(directory + \"tournament__single_point_co__distinct_mutation.csv\")\n",
    "tournament__single_point_co__inversion_mutation = pd.read_csv(directory + \"tournament__single_point_co__inversion_mutation.csv\")\n",
    "tournament__single_point_co__swap_mutation = pd.read_csv(directory + \"tournament__single_point_co__swap_mutation.csv\")"
   ]
  },
  {
   "cell_type": "code",
   "execution_count": 4,
   "id": "typical-funeral",
   "metadata": {},
   "outputs": [],
   "source": [
    "all_dfs = [\n",
    "\n",
    "fps__cycle_co__distinct_mutation,\n",
    "fps__cycle_co__inversion_mutation,\n",
    "fps__cycle_co__swap_mutation,\n",
    "fps__pmx_co__distinct_mutation,\n",
    "fps__pmx_co__inversion_mutation,\n",
    "fps__pmx_co__swap_mutation,\n",
    "fps__single_point_co__distinct_mutation,\n",
    "fps__single_point_co__inversion_mutation,\n",
    "fps__single_point_co__swap_mutation,\n",
    "\n",
    "rank__cycle_co__distinct_mutation,\n",
    "rank__cycle_co__inversion_mutation,\n",
    "rank__cycle_co__swap_mutation,\n",
    "rank__pmx_co__distinct_mutation,\n",
    "rank__pmx_co__inversion_mutation,\n",
    "rank__pmx_co__swap_mutation,\n",
    "rank__single_point_co__distinct_mutation,\n",
    "rank__single_point_co__inversion_mutation,\n",
    "rank__single_point_co__swap_mutation,\n",
    "\n",
    "tournament__cycle_co__distinct_mutation,\n",
    "tournament__cycle_co__inversion_mutation,\n",
    "tournament__cycle_co__swap_mutation,\n",
    "tournament__pmx_co__distinct_mutation,\n",
    "tournament__pmx_co__inversion_mutation,\n",
    "tournament__pmx_co__swap_mutation,\n",
    "tournament__single_point_co__distinct_mutation,\n",
    "tournament__single_point_co__inversion_mutation,\n",
    "tournament__single_point_co__swap_mutation\n",
    "\n",
    "]\n",
    "\n",
    "\n",
    "all_dfs_strings = []\n",
    "\n",
    "for element in all_file_names:\n",
    "    all_dfs_strings.append(element.replace(\".csv\", \"\"))"
   ]
  },
  {
   "cell_type": "markdown",
   "id": "public-insured",
   "metadata": {},
   "source": [
    "## Best Overall Average_Fitness"
   ]
  },
  {
   "cell_type": "code",
   "execution_count": 5,
   "id": "charged-thousand",
   "metadata": {},
   "outputs": [],
   "source": [
    "fitness_scores_for_overall = {}\n",
    "\n",
    "for i in range(len(all_dfs)):\n",
    "    fitness_scores_for_overall[all_dfs_strings[i]] = (all_dfs[i][\"Average_Fitness\"][0] + all_dfs[i][\"Average_Fitness\"][1] + all_dfs[i][\"Average_Fitness\"][2]) / 3\n",
    "    \n",
    "select = []\n",
    "crossover = []\n",
    "mutate = []\n",
    "\n",
    "for i in range(len(all_dfs_strings)):\n",
    "    select.append(all_dfs_strings[i].split(\"__\")[0])\n",
    "    crossover.append(all_dfs_strings[i].split(\"__\")[1])\n",
    "    mutate.append(all_dfs_strings[i].split(\"__\")[2])"
   ]
  },
  {
   "cell_type": "code",
   "execution_count": 6,
   "id": "false-translation",
   "metadata": {},
   "outputs": [
    {
     "name": "stdout",
     "output_type": "stream",
     "text": [
      "\n",
      "\n",
      "\u001b[1moverall:\n"
     ]
    },
    {
     "data": {
      "text/html": [
       "<div>\n",
       "<style scoped>\n",
       "    .dataframe tbody tr th:only-of-type {\n",
       "        vertical-align: middle;\n",
       "    }\n",
       "\n",
       "    .dataframe tbody tr th {\n",
       "        vertical-align: top;\n",
       "    }\n",
       "\n",
       "    .dataframe thead th {\n",
       "        text-align: right;\n",
       "    }\n",
       "</style>\n",
       "<table border=\"1\" class=\"dataframe\">\n",
       "  <thead>\n",
       "    <tr style=\"text-align: right;\">\n",
       "      <th></th>\n",
       "      <th>Configuration</th>\n",
       "      <th>Average_Fitness</th>\n",
       "    </tr>\n",
       "  </thead>\n",
       "  <tbody>\n",
       "    <tr>\n",
       "      <th>23</th>\n",
       "      <td>tournament__pmx_co__swap_mutation</td>\n",
       "      <td>249.653333</td>\n",
       "    </tr>\n",
       "    <tr>\n",
       "      <th>26</th>\n",
       "      <td>tournament__single_point_co__swap_mutation</td>\n",
       "      <td>249.293333</td>\n",
       "    </tr>\n",
       "    <tr>\n",
       "      <th>20</th>\n",
       "      <td>tournament__cycle_co__swap_mutation</td>\n",
       "      <td>247.946667</td>\n",
       "    </tr>\n",
       "    <tr>\n",
       "      <th>14</th>\n",
       "      <td>rank__pmx_co__swap_mutation</td>\n",
       "      <td>245.693333</td>\n",
       "    </tr>\n",
       "    <tr>\n",
       "      <th>21</th>\n",
       "      <td>tournament__pmx_co__distinct_mutation</td>\n",
       "      <td>245.000000</td>\n",
       "    </tr>\n",
       "  </tbody>\n",
       "</table>\n",
       "</div>"
      ],
      "text/plain": [
       "                                 Configuration  Average_Fitness\n",
       "23           tournament__pmx_co__swap_mutation       249.653333\n",
       "26  tournament__single_point_co__swap_mutation       249.293333\n",
       "20         tournament__cycle_co__swap_mutation       247.946667\n",
       "14                 rank__pmx_co__swap_mutation       245.693333\n",
       "21       tournament__pmx_co__distinct_mutation       245.000000"
      ]
     },
     "metadata": {},
     "output_type": "display_data"
    }
   ],
   "source": [
    "overall_df = pd.DataFrame([fitness_scores_for_overall.keys(), fitness_scores_for_overall.values()], index = [\"Configuration\", \"Average_Fitness\"]).T\n",
    "overall_df[\"Select\"] = select\n",
    "overall_df[\"Crossover\"] = crossover\n",
    "overall_df[\"Mutate\"] = mutate\n",
    "overall_df[\"Average_Fitness\"] = overall_df[\"Average_Fitness\"].apply(float)\n",
    "print(\"\\n\\n\\033[1moverall:\")\n",
    "display(overall_df.sort_values(\"Average_Fitness\", ascending = False).iloc[:,:2].head())\n"
   ]
  },
  {
   "cell_type": "markdown",
   "id": "ethical-bosnia",
   "metadata": {},
   "source": [
    "#### By individual methods"
   ]
  },
  {
   "cell_type": "markdown",
   "id": "italic-asian",
   "metadata": {},
   "source": [
    "##### Select"
   ]
  },
  {
   "cell_type": "code",
   "execution_count": 7,
   "id": "saved-premiere",
   "metadata": {},
   "outputs": [
    {
     "name": "stdout",
     "output_type": "stream",
     "text": [
      "\n",
      "\n",
      "\u001b[1moverall:\n"
     ]
    },
    {
     "data": {
      "text/html": [
       "<div>\n",
       "<style scoped>\n",
       "    .dataframe tbody tr th:only-of-type {\n",
       "        vertical-align: middle;\n",
       "    }\n",
       "\n",
       "    .dataframe tbody tr th {\n",
       "        vertical-align: top;\n",
       "    }\n",
       "\n",
       "    .dataframe thead th {\n",
       "        text-align: right;\n",
       "    }\n",
       "</style>\n",
       "<table border=\"1\" class=\"dataframe\">\n",
       "  <thead>\n",
       "    <tr style=\"text-align: right;\">\n",
       "      <th></th>\n",
       "      <th>Average_Fitness</th>\n",
       "    </tr>\n",
       "    <tr>\n",
       "      <th>Select</th>\n",
       "      <th></th>\n",
       "    </tr>\n",
       "  </thead>\n",
       "  <tbody>\n",
       "    <tr>\n",
       "      <th>rank</th>\n",
       "      <td>240.164444</td>\n",
       "    </tr>\n",
       "    <tr>\n",
       "      <th>tournament</th>\n",
       "      <td>239.715556</td>\n",
       "    </tr>\n",
       "    <tr>\n",
       "      <th>fps</th>\n",
       "      <td>183.980741</td>\n",
       "    </tr>\n",
       "  </tbody>\n",
       "</table>\n",
       "</div>"
      ],
      "text/plain": [
       "            Average_Fitness\n",
       "Select                     \n",
       "rank             240.164444\n",
       "tournament       239.715556\n",
       "fps              183.980741"
      ]
     },
     "metadata": {},
     "output_type": "display_data"
    }
   ],
   "source": [
    "print(\"\\n\\n\\033[1moverall:\")\n",
    "display(overall_df.groupby(\"Select\").mean().sort_values(\"Average_Fitness\", ascending = False))\n"
   ]
  },
  {
   "cell_type": "markdown",
   "id": "expensive-token",
   "metadata": {},
   "source": [
    "##### Crossover"
   ]
  },
  {
   "cell_type": "code",
   "execution_count": 8,
   "id": "listed-london",
   "metadata": {},
   "outputs": [
    {
     "name": "stdout",
     "output_type": "stream",
     "text": [
      "\n",
      "\n",
      "\u001b[1moverall:\n"
     ]
    },
    {
     "data": {
      "text/html": [
       "<div>\n",
       "<style scoped>\n",
       "    .dataframe tbody tr th:only-of-type {\n",
       "        vertical-align: middle;\n",
       "    }\n",
       "\n",
       "    .dataframe tbody tr th {\n",
       "        vertical-align: top;\n",
       "    }\n",
       "\n",
       "    .dataframe thead th {\n",
       "        text-align: right;\n",
       "    }\n",
       "</style>\n",
       "<table border=\"1\" class=\"dataframe\">\n",
       "  <thead>\n",
       "    <tr style=\"text-align: right;\">\n",
       "      <th></th>\n",
       "      <th>Average_Fitness</th>\n",
       "    </tr>\n",
       "    <tr>\n",
       "      <th>Crossover</th>\n",
       "      <th></th>\n",
       "    </tr>\n",
       "  </thead>\n",
       "  <tbody>\n",
       "    <tr>\n",
       "      <th>pmx_co</th>\n",
       "      <td>222.327407</td>\n",
       "    </tr>\n",
       "    <tr>\n",
       "      <th>single_point_co</th>\n",
       "      <td>221.580741</td>\n",
       "    </tr>\n",
       "    <tr>\n",
       "      <th>cycle_co</th>\n",
       "      <td>219.952593</td>\n",
       "    </tr>\n",
       "  </tbody>\n",
       "</table>\n",
       "</div>"
      ],
      "text/plain": [
       "                 Average_Fitness\n",
       "Crossover                       \n",
       "pmx_co                222.327407\n",
       "single_point_co       221.580741\n",
       "cycle_co              219.952593"
      ]
     },
     "metadata": {},
     "output_type": "display_data"
    }
   ],
   "source": [
    "print(\"\\n\\n\\033[1moverall:\")\n",
    "display(overall_df.groupby(\"Crossover\").mean().sort_values(\"Average_Fitness\", ascending = False))\n"
   ]
  },
  {
   "cell_type": "markdown",
   "id": "stopped-inclusion",
   "metadata": {},
   "source": [
    "##### Mutate"
   ]
  },
  {
   "cell_type": "code",
   "execution_count": 9,
   "id": "needed-express",
   "metadata": {},
   "outputs": [
    {
     "name": "stdout",
     "output_type": "stream",
     "text": [
      "\n",
      "\n",
      "\u001b[1moverall:\n"
     ]
    },
    {
     "data": {
      "text/html": [
       "<div>\n",
       "<style scoped>\n",
       "    .dataframe tbody tr th:only-of-type {\n",
       "        vertical-align: middle;\n",
       "    }\n",
       "\n",
       "    .dataframe tbody tr th {\n",
       "        vertical-align: top;\n",
       "    }\n",
       "\n",
       "    .dataframe thead th {\n",
       "        text-align: right;\n",
       "    }\n",
       "</style>\n",
       "<table border=\"1\" class=\"dataframe\">\n",
       "  <thead>\n",
       "    <tr style=\"text-align: right;\">\n",
       "      <th></th>\n",
       "      <th>Average_Fitness</th>\n",
       "    </tr>\n",
       "    <tr>\n",
       "      <th>Mutate</th>\n",
       "      <th></th>\n",
       "    </tr>\n",
       "  </thead>\n",
       "  <tbody>\n",
       "    <tr>\n",
       "      <th>swap_mutation</th>\n",
       "      <td>226.208889</td>\n",
       "    </tr>\n",
       "    <tr>\n",
       "      <th>distinct_mutation</th>\n",
       "      <td>223.884444</td>\n",
       "    </tr>\n",
       "    <tr>\n",
       "      <th>inversion_mutation</th>\n",
       "      <td>213.767407</td>\n",
       "    </tr>\n",
       "  </tbody>\n",
       "</table>\n",
       "</div>"
      ],
      "text/plain": [
       "                    Average_Fitness\n",
       "Mutate                             \n",
       "swap_mutation            226.208889\n",
       "distinct_mutation        223.884444\n",
       "inversion_mutation       213.767407"
      ]
     },
     "metadata": {},
     "output_type": "display_data"
    }
   ],
   "source": [
    "print(\"\\n\\n\\033[1moverall:\")\n",
    "display(overall_df.groupby(\"Mutate\").mean().sort_values(\"Average_Fitness\", ascending = False))\n"
   ]
  },
  {
   "cell_type": "markdown",
   "id": "gorgeous-amplifier",
   "metadata": {},
   "source": [
    "## Best Average_Fitness for easy, medium and hard individually"
   ]
  },
  {
   "cell_type": "markdown",
   "id": "bridal-profile",
   "metadata": {},
   "source": [
    "#### By overall configuration"
   ]
  },
  {
   "cell_type": "code",
   "execution_count": 10,
   "id": "modern-border",
   "metadata": {},
   "outputs": [],
   "source": [
    "fitness_scores_for_easy = {}\n",
    "fitness_scores_for_medium = {}\n",
    "fitness_scores_for_hard = {}\n",
    "\n",
    "for i in range(len(all_dfs)):\n",
    "    fitness_scores_for_easy[all_dfs_strings[i]] = all_dfs[i][\"Average_Fitness\"][0]\n",
    "    fitness_scores_for_medium[all_dfs_strings[i]] = all_dfs[i][\"Average_Fitness\"][1]\n",
    "    fitness_scores_for_hard[all_dfs_strings[i]] = all_dfs[i][\"Average_Fitness\"][2]\n",
    "    \n",
    "select = []\n",
    "crossover = []\n",
    "mutate = []\n",
    "\n",
    "for i in range(len(all_dfs_strings)):\n",
    "    select.append(all_dfs_strings[i].split(\"__\")[0])\n",
    "    crossover.append(all_dfs_strings[i].split(\"__\")[1])\n",
    "    mutate.append(all_dfs_strings[i].split(\"__\")[2])"
   ]
  },
  {
   "cell_type": "code",
   "execution_count": 11,
   "id": "rising-flour",
   "metadata": {},
   "outputs": [
    {
     "name": "stdout",
     "output_type": "stream",
     "text": [
      "\n",
      "\n",
      "\u001b[1measy:\n"
     ]
    },
    {
     "data": {
      "text/html": [
       "<div>\n",
       "<style scoped>\n",
       "    .dataframe tbody tr th:only-of-type {\n",
       "        vertical-align: middle;\n",
       "    }\n",
       "\n",
       "    .dataframe tbody tr th {\n",
       "        vertical-align: top;\n",
       "    }\n",
       "\n",
       "    .dataframe thead th {\n",
       "        text-align: right;\n",
       "    }\n",
       "</style>\n",
       "<table border=\"1\" class=\"dataframe\">\n",
       "  <thead>\n",
       "    <tr style=\"text-align: right;\">\n",
       "      <th></th>\n",
       "      <th>Configuration</th>\n",
       "      <th>Average_Fitness</th>\n",
       "    </tr>\n",
       "  </thead>\n",
       "  <tbody>\n",
       "    <tr>\n",
       "      <th>26</th>\n",
       "      <td>tournament__single_point_co__swap_mutation</td>\n",
       "      <td>250.84</td>\n",
       "    </tr>\n",
       "    <tr>\n",
       "      <th>23</th>\n",
       "      <td>tournament__pmx_co__swap_mutation</td>\n",
       "      <td>250.16</td>\n",
       "    </tr>\n",
       "    <tr>\n",
       "      <th>20</th>\n",
       "      <td>tournament__cycle_co__swap_mutation</td>\n",
       "      <td>249.12</td>\n",
       "    </tr>\n",
       "    <tr>\n",
       "      <th>14</th>\n",
       "      <td>rank__pmx_co__swap_mutation</td>\n",
       "      <td>248.84</td>\n",
       "    </tr>\n",
       "    <tr>\n",
       "      <th>17</th>\n",
       "      <td>rank__single_point_co__swap_mutation</td>\n",
       "      <td>248.00</td>\n",
       "    </tr>\n",
       "  </tbody>\n",
       "</table>\n",
       "</div>"
      ],
      "text/plain": [
       "                                 Configuration  Average_Fitness\n",
       "26  tournament__single_point_co__swap_mutation           250.84\n",
       "23           tournament__pmx_co__swap_mutation           250.16\n",
       "20         tournament__cycle_co__swap_mutation           249.12\n",
       "14                 rank__pmx_co__swap_mutation           248.84\n",
       "17        rank__single_point_co__swap_mutation           248.00"
      ]
     },
     "metadata": {},
     "output_type": "display_data"
    },
    {
     "name": "stdout",
     "output_type": "stream",
     "text": [
      "\n",
      "\n",
      "\u001b[1mmedium:\n"
     ]
    },
    {
     "data": {
      "text/html": [
       "<div>\n",
       "<style scoped>\n",
       "    .dataframe tbody tr th:only-of-type {\n",
       "        vertical-align: middle;\n",
       "    }\n",
       "\n",
       "    .dataframe tbody tr th {\n",
       "        vertical-align: top;\n",
       "    }\n",
       "\n",
       "    .dataframe thead th {\n",
       "        text-align: right;\n",
       "    }\n",
       "</style>\n",
       "<table border=\"1\" class=\"dataframe\">\n",
       "  <thead>\n",
       "    <tr style=\"text-align: right;\">\n",
       "      <th></th>\n",
       "      <th>Configuration</th>\n",
       "      <th>Average_Fitness</th>\n",
       "    </tr>\n",
       "  </thead>\n",
       "  <tbody>\n",
       "    <tr>\n",
       "      <th>26</th>\n",
       "      <td>tournament__single_point_co__swap_mutation</td>\n",
       "      <td>249.20</td>\n",
       "    </tr>\n",
       "    <tr>\n",
       "      <th>20</th>\n",
       "      <td>tournament__cycle_co__swap_mutation</td>\n",
       "      <td>248.80</td>\n",
       "    </tr>\n",
       "    <tr>\n",
       "      <th>23</th>\n",
       "      <td>tournament__pmx_co__swap_mutation</td>\n",
       "      <td>248.12</td>\n",
       "    </tr>\n",
       "    <tr>\n",
       "      <th>14</th>\n",
       "      <td>rank__pmx_co__swap_mutation</td>\n",
       "      <td>245.08</td>\n",
       "    </tr>\n",
       "    <tr>\n",
       "      <th>12</th>\n",
       "      <td>rank__pmx_co__distinct_mutation</td>\n",
       "      <td>244.36</td>\n",
       "    </tr>\n",
       "  </tbody>\n",
       "</table>\n",
       "</div>"
      ],
      "text/plain": [
       "                                 Configuration  Average_Fitness\n",
       "26  tournament__single_point_co__swap_mutation           249.20\n",
       "20         tournament__cycle_co__swap_mutation           248.80\n",
       "23           tournament__pmx_co__swap_mutation           248.12\n",
       "14                 rank__pmx_co__swap_mutation           245.08\n",
       "12             rank__pmx_co__distinct_mutation           244.36"
      ]
     },
     "metadata": {},
     "output_type": "display_data"
    },
    {
     "name": "stdout",
     "output_type": "stream",
     "text": [
      "\n",
      "\n",
      "\u001b[1mhard:\n"
     ]
    },
    {
     "data": {
      "text/html": [
       "<div>\n",
       "<style scoped>\n",
       "    .dataframe tbody tr th:only-of-type {\n",
       "        vertical-align: middle;\n",
       "    }\n",
       "\n",
       "    .dataframe tbody tr th {\n",
       "        vertical-align: top;\n",
       "    }\n",
       "\n",
       "    .dataframe thead th {\n",
       "        text-align: right;\n",
       "    }\n",
       "</style>\n",
       "<table border=\"1\" class=\"dataframe\">\n",
       "  <thead>\n",
       "    <tr style=\"text-align: right;\">\n",
       "      <th></th>\n",
       "      <th>Configuration</th>\n",
       "      <th>Average_Fitness</th>\n",
       "    </tr>\n",
       "  </thead>\n",
       "  <tbody>\n",
       "    <tr>\n",
       "      <th>23</th>\n",
       "      <td>tournament__pmx_co__swap_mutation</td>\n",
       "      <td>250.68</td>\n",
       "    </tr>\n",
       "    <tr>\n",
       "      <th>26</th>\n",
       "      <td>tournament__single_point_co__swap_mutation</td>\n",
       "      <td>247.84</td>\n",
       "    </tr>\n",
       "    <tr>\n",
       "      <th>20</th>\n",
       "      <td>tournament__cycle_co__swap_mutation</td>\n",
       "      <td>245.92</td>\n",
       "    </tr>\n",
       "    <tr>\n",
       "      <th>21</th>\n",
       "      <td>tournament__pmx_co__distinct_mutation</td>\n",
       "      <td>245.88</td>\n",
       "    </tr>\n",
       "    <tr>\n",
       "      <th>18</th>\n",
       "      <td>tournament__cycle_co__distinct_mutation</td>\n",
       "      <td>243.24</td>\n",
       "    </tr>\n",
       "  </tbody>\n",
       "</table>\n",
       "</div>"
      ],
      "text/plain": [
       "                                 Configuration  Average_Fitness\n",
       "23           tournament__pmx_co__swap_mutation           250.68\n",
       "26  tournament__single_point_co__swap_mutation           247.84\n",
       "20         tournament__cycle_co__swap_mutation           245.92\n",
       "21       tournament__pmx_co__distinct_mutation           245.88\n",
       "18     tournament__cycle_co__distinct_mutation           243.24"
      ]
     },
     "metadata": {},
     "output_type": "display_data"
    }
   ],
   "source": [
    "easy_df = pd.DataFrame([fitness_scores_for_easy.keys(), fitness_scores_for_easy.values()], index = [\"Configuration\", \"Average_Fitness\"]).T\n",
    "easy_df[\"Select\"] = select\n",
    "easy_df[\"Crossover\"] = crossover\n",
    "easy_df[\"Mutate\"] = mutate\n",
    "easy_df[\"Average_Fitness\"] = easy_df[\"Average_Fitness\"].apply(float)\n",
    "print(\"\\n\\n\\033[1measy:\")\n",
    "display(easy_df.sort_values(\"Average_Fitness\", ascending = False).iloc[:,:2].head())\n",
    "\n",
    "medium_df = pd.DataFrame([fitness_scores_for_medium.keys(), fitness_scores_for_medium.values()], index = [\"Configuration\", \"Average_Fitness\"]).T\n",
    "medium_df[\"Select\"] = select\n",
    "medium_df[\"Crossover\"] = crossover\n",
    "medium_df[\"Mutate\"] = mutate\n",
    "medium_df[\"Average_Fitness\"] = medium_df[\"Average_Fitness\"].apply(float)\n",
    "print(\"\\n\\n\\033[1mmedium:\")\n",
    "display(medium_df.sort_values(\"Average_Fitness\", ascending = False).iloc[:,:2].head())\n",
    "\n",
    "hard_df = pd.DataFrame([fitness_scores_for_hard.keys(), fitness_scores_for_hard.values()], index = [\"Configuration\", \"Average_Fitness\"]).T\n",
    "hard_df[\"Select\"] = select\n",
    "hard_df[\"Crossover\"] = crossover\n",
    "hard_df[\"Mutate\"] = mutate\n",
    "hard_df[\"Average_Fitness\"] = hard_df[\"Average_Fitness\"].apply(float)\n",
    "print(\"\\n\\n\\033[1mhard:\")\n",
    "display(hard_df.sort_values(\"Average_Fitness\", ascending = False).iloc[:,:2].head())"
   ]
  },
  {
   "cell_type": "markdown",
   "id": "outdoor-organization",
   "metadata": {},
   "source": [
    "#### By individual methods"
   ]
  },
  {
   "cell_type": "markdown",
   "id": "spread-utility",
   "metadata": {},
   "source": [
    "##### Select"
   ]
  },
  {
   "cell_type": "code",
   "execution_count": 12,
   "id": "micro-presence",
   "metadata": {},
   "outputs": [
    {
     "name": "stdout",
     "output_type": "stream",
     "text": [
      "\n",
      "\n",
      "\u001b[1measy:\n"
     ]
    },
    {
     "data": {
      "text/html": [
       "<div>\n",
       "<style scoped>\n",
       "    .dataframe tbody tr th:only-of-type {\n",
       "        vertical-align: middle;\n",
       "    }\n",
       "\n",
       "    .dataframe tbody tr th {\n",
       "        vertical-align: top;\n",
       "    }\n",
       "\n",
       "    .dataframe thead th {\n",
       "        text-align: right;\n",
       "    }\n",
       "</style>\n",
       "<table border=\"1\" class=\"dataframe\">\n",
       "  <thead>\n",
       "    <tr style=\"text-align: right;\">\n",
       "      <th></th>\n",
       "      <th>Average_Fitness</th>\n",
       "    </tr>\n",
       "    <tr>\n",
       "      <th>Select</th>\n",
       "      <th></th>\n",
       "    </tr>\n",
       "  </thead>\n",
       "  <tbody>\n",
       "    <tr>\n",
       "      <th>rank</th>\n",
       "      <td>243.742222</td>\n",
       "    </tr>\n",
       "    <tr>\n",
       "      <th>tournament</th>\n",
       "      <td>241.364444</td>\n",
       "    </tr>\n",
       "    <tr>\n",
       "      <th>fps</th>\n",
       "      <td>186.644444</td>\n",
       "    </tr>\n",
       "  </tbody>\n",
       "</table>\n",
       "</div>"
      ],
      "text/plain": [
       "            Average_Fitness\n",
       "Select                     \n",
       "rank             243.742222\n",
       "tournament       241.364444\n",
       "fps              186.644444"
      ]
     },
     "metadata": {},
     "output_type": "display_data"
    },
    {
     "name": "stdout",
     "output_type": "stream",
     "text": [
      "\n",
      "\n",
      "\u001b[1mmedium:\n"
     ]
    },
    {
     "data": {
      "text/html": [
       "<div>\n",
       "<style scoped>\n",
       "    .dataframe tbody tr th:only-of-type {\n",
       "        vertical-align: middle;\n",
       "    }\n",
       "\n",
       "    .dataframe tbody tr th {\n",
       "        vertical-align: top;\n",
       "    }\n",
       "\n",
       "    .dataframe thead th {\n",
       "        text-align: right;\n",
       "    }\n",
       "</style>\n",
       "<table border=\"1\" class=\"dataframe\">\n",
       "  <thead>\n",
       "    <tr style=\"text-align: right;\">\n",
       "      <th></th>\n",
       "      <th>Average_Fitness</th>\n",
       "    </tr>\n",
       "    <tr>\n",
       "      <th>Select</th>\n",
       "      <th></th>\n",
       "    </tr>\n",
       "  </thead>\n",
       "  <tbody>\n",
       "    <tr>\n",
       "      <th>rank</th>\n",
       "      <td>239.857778</td>\n",
       "    </tr>\n",
       "    <tr>\n",
       "      <th>tournament</th>\n",
       "      <td>239.386667</td>\n",
       "    </tr>\n",
       "    <tr>\n",
       "      <th>fps</th>\n",
       "      <td>184.466667</td>\n",
       "    </tr>\n",
       "  </tbody>\n",
       "</table>\n",
       "</div>"
      ],
      "text/plain": [
       "            Average_Fitness\n",
       "Select                     \n",
       "rank             239.857778\n",
       "tournament       239.386667\n",
       "fps              184.466667"
      ]
     },
     "metadata": {},
     "output_type": "display_data"
    },
    {
     "name": "stdout",
     "output_type": "stream",
     "text": [
      "\n",
      "\n",
      "\u001b[1mhard:\n"
     ]
    },
    {
     "data": {
      "text/html": [
       "<div>\n",
       "<style scoped>\n",
       "    .dataframe tbody tr th:only-of-type {\n",
       "        vertical-align: middle;\n",
       "    }\n",
       "\n",
       "    .dataframe tbody tr th {\n",
       "        vertical-align: top;\n",
       "    }\n",
       "\n",
       "    .dataframe thead th {\n",
       "        text-align: right;\n",
       "    }\n",
       "</style>\n",
       "<table border=\"1\" class=\"dataframe\">\n",
       "  <thead>\n",
       "    <tr style=\"text-align: right;\">\n",
       "      <th></th>\n",
       "      <th>Average_Fitness</th>\n",
       "    </tr>\n",
       "    <tr>\n",
       "      <th>Select</th>\n",
       "      <th></th>\n",
       "    </tr>\n",
       "  </thead>\n",
       "  <tbody>\n",
       "    <tr>\n",
       "      <th>tournament</th>\n",
       "      <td>238.395556</td>\n",
       "    </tr>\n",
       "    <tr>\n",
       "      <th>rank</th>\n",
       "      <td>236.893333</td>\n",
       "    </tr>\n",
       "    <tr>\n",
       "      <th>fps</th>\n",
       "      <td>180.831111</td>\n",
       "    </tr>\n",
       "  </tbody>\n",
       "</table>\n",
       "</div>"
      ],
      "text/plain": [
       "            Average_Fitness\n",
       "Select                     \n",
       "tournament       238.395556\n",
       "rank             236.893333\n",
       "fps              180.831111"
      ]
     },
     "metadata": {},
     "output_type": "display_data"
    }
   ],
   "source": [
    "print(\"\\n\\n\\033[1measy:\")\n",
    "display(easy_df.groupby(\"Select\").mean().sort_values(\"Average_Fitness\", ascending = False))\n",
    "\n",
    "print(\"\\n\\n\\033[1mmedium:\")\n",
    "display(medium_df.groupby(\"Select\").mean().sort_values(\"Average_Fitness\", ascending = False))\n",
    "\n",
    "print(\"\\n\\n\\033[1mhard:\")\n",
    "display(hard_df.groupby(\"Select\").mean().sort_values(\"Average_Fitness\", ascending = False))"
   ]
  },
  {
   "cell_type": "markdown",
   "id": "normal-density",
   "metadata": {},
   "source": [
    "##### Crossover"
   ]
  },
  {
   "cell_type": "code",
   "execution_count": 13,
   "id": "neither-sterling",
   "metadata": {},
   "outputs": [
    {
     "name": "stdout",
     "output_type": "stream",
     "text": [
      "\n",
      "\n",
      "\u001b[1measy:\n"
     ]
    },
    {
     "data": {
      "text/html": [
       "<div>\n",
       "<style scoped>\n",
       "    .dataframe tbody tr th:only-of-type {\n",
       "        vertical-align: middle;\n",
       "    }\n",
       "\n",
       "    .dataframe tbody tr th {\n",
       "        vertical-align: top;\n",
       "    }\n",
       "\n",
       "    .dataframe thead th {\n",
       "        text-align: right;\n",
       "    }\n",
       "</style>\n",
       "<table border=\"1\" class=\"dataframe\">\n",
       "  <thead>\n",
       "    <tr style=\"text-align: right;\">\n",
       "      <th></th>\n",
       "      <th>Average_Fitness</th>\n",
       "    </tr>\n",
       "    <tr>\n",
       "      <th>Crossover</th>\n",
       "      <th></th>\n",
       "    </tr>\n",
       "  </thead>\n",
       "  <tbody>\n",
       "    <tr>\n",
       "      <th>pmx_co</th>\n",
       "      <td>224.533333</td>\n",
       "    </tr>\n",
       "    <tr>\n",
       "      <th>single_point_co</th>\n",
       "      <td>223.844444</td>\n",
       "    </tr>\n",
       "    <tr>\n",
       "      <th>cycle_co</th>\n",
       "      <td>223.373333</td>\n",
       "    </tr>\n",
       "  </tbody>\n",
       "</table>\n",
       "</div>"
      ],
      "text/plain": [
       "                 Average_Fitness\n",
       "Crossover                       \n",
       "pmx_co                224.533333\n",
       "single_point_co       223.844444\n",
       "cycle_co              223.373333"
      ]
     },
     "metadata": {},
     "output_type": "display_data"
    },
    {
     "name": "stdout",
     "output_type": "stream",
     "text": [
      "\n",
      "\n",
      "\u001b[1mmedium:\n"
     ]
    },
    {
     "data": {
      "text/html": [
       "<div>\n",
       "<style scoped>\n",
       "    .dataframe tbody tr th:only-of-type {\n",
       "        vertical-align: middle;\n",
       "    }\n",
       "\n",
       "    .dataframe tbody tr th {\n",
       "        vertical-align: top;\n",
       "    }\n",
       "\n",
       "    .dataframe thead th {\n",
       "        text-align: right;\n",
       "    }\n",
       "</style>\n",
       "<table border=\"1\" class=\"dataframe\">\n",
       "  <thead>\n",
       "    <tr style=\"text-align: right;\">\n",
       "      <th></th>\n",
       "      <th>Average_Fitness</th>\n",
       "    </tr>\n",
       "    <tr>\n",
       "      <th>Crossover</th>\n",
       "      <th></th>\n",
       "    </tr>\n",
       "  </thead>\n",
       "  <tbody>\n",
       "    <tr>\n",
       "      <th>pmx_co</th>\n",
       "      <td>222.057778</td>\n",
       "    </tr>\n",
       "    <tr>\n",
       "      <th>single_point_co</th>\n",
       "      <td>221.728889</td>\n",
       "    </tr>\n",
       "    <tr>\n",
       "      <th>cycle_co</th>\n",
       "      <td>219.924444</td>\n",
       "    </tr>\n",
       "  </tbody>\n",
       "</table>\n",
       "</div>"
      ],
      "text/plain": [
       "                 Average_Fitness\n",
       "Crossover                       \n",
       "pmx_co                222.057778\n",
       "single_point_co       221.728889\n",
       "cycle_co              219.924444"
      ]
     },
     "metadata": {},
     "output_type": "display_data"
    },
    {
     "name": "stdout",
     "output_type": "stream",
     "text": [
      "\n",
      "\n",
      "\u001b[1mhard:\n"
     ]
    },
    {
     "data": {
      "text/html": [
       "<div>\n",
       "<style scoped>\n",
       "    .dataframe tbody tr th:only-of-type {\n",
       "        vertical-align: middle;\n",
       "    }\n",
       "\n",
       "    .dataframe tbody tr th {\n",
       "        vertical-align: top;\n",
       "    }\n",
       "\n",
       "    .dataframe thead th {\n",
       "        text-align: right;\n",
       "    }\n",
       "</style>\n",
       "<table border=\"1\" class=\"dataframe\">\n",
       "  <thead>\n",
       "    <tr style=\"text-align: right;\">\n",
       "      <th></th>\n",
       "      <th>Average_Fitness</th>\n",
       "    </tr>\n",
       "    <tr>\n",
       "      <th>Crossover</th>\n",
       "      <th></th>\n",
       "    </tr>\n",
       "  </thead>\n",
       "  <tbody>\n",
       "    <tr>\n",
       "      <th>pmx_co</th>\n",
       "      <td>220.391111</td>\n",
       "    </tr>\n",
       "    <tr>\n",
       "      <th>single_point_co</th>\n",
       "      <td>219.168889</td>\n",
       "    </tr>\n",
       "    <tr>\n",
       "      <th>cycle_co</th>\n",
       "      <td>216.560000</td>\n",
       "    </tr>\n",
       "  </tbody>\n",
       "</table>\n",
       "</div>"
      ],
      "text/plain": [
       "                 Average_Fitness\n",
       "Crossover                       \n",
       "pmx_co                220.391111\n",
       "single_point_co       219.168889\n",
       "cycle_co              216.560000"
      ]
     },
     "metadata": {},
     "output_type": "display_data"
    }
   ],
   "source": [
    "print(\"\\n\\n\\033[1measy:\")\n",
    "display(easy_df.groupby(\"Crossover\").mean().sort_values(\"Average_Fitness\", ascending = False))\n",
    "\n",
    "print(\"\\n\\n\\033[1mmedium:\")\n",
    "display(medium_df.groupby(\"Crossover\").mean().sort_values(\"Average_Fitness\", ascending = False))\n",
    "\n",
    "print(\"\\n\\n\\033[1mhard:\")\n",
    "display(hard_df.groupby(\"Crossover\").mean().sort_values(\"Average_Fitness\", ascending = False))"
   ]
  },
  {
   "cell_type": "markdown",
   "id": "inside-messaging",
   "metadata": {},
   "source": [
    "##### Mutate"
   ]
  },
  {
   "cell_type": "code",
   "execution_count": 14,
   "id": "operational-albert",
   "metadata": {},
   "outputs": [
    {
     "name": "stdout",
     "output_type": "stream",
     "text": [
      "\n",
      "\n",
      "\u001b[1measy:\n"
     ]
    },
    {
     "data": {
      "text/html": [
       "<div>\n",
       "<style scoped>\n",
       "    .dataframe tbody tr th:only-of-type {\n",
       "        vertical-align: middle;\n",
       "    }\n",
       "\n",
       "    .dataframe tbody tr th {\n",
       "        vertical-align: top;\n",
       "    }\n",
       "\n",
       "    .dataframe thead th {\n",
       "        text-align: right;\n",
       "    }\n",
       "</style>\n",
       "<table border=\"1\" class=\"dataframe\">\n",
       "  <thead>\n",
       "    <tr style=\"text-align: right;\">\n",
       "      <th></th>\n",
       "      <th>Average_Fitness</th>\n",
       "    </tr>\n",
       "    <tr>\n",
       "      <th>Mutate</th>\n",
       "      <th></th>\n",
       "    </tr>\n",
       "  </thead>\n",
       "  <tbody>\n",
       "    <tr>\n",
       "      <th>swap_mutation</th>\n",
       "      <td>228.746667</td>\n",
       "    </tr>\n",
       "    <tr>\n",
       "      <th>distinct_mutation</th>\n",
       "      <td>226.248889</td>\n",
       "    </tr>\n",
       "    <tr>\n",
       "      <th>inversion_mutation</th>\n",
       "      <td>216.755556</td>\n",
       "    </tr>\n",
       "  </tbody>\n",
       "</table>\n",
       "</div>"
      ],
      "text/plain": [
       "                    Average_Fitness\n",
       "Mutate                             \n",
       "swap_mutation            228.746667\n",
       "distinct_mutation        226.248889\n",
       "inversion_mutation       216.755556"
      ]
     },
     "metadata": {},
     "output_type": "display_data"
    },
    {
     "name": "stdout",
     "output_type": "stream",
     "text": [
      "\n",
      "\n",
      "\u001b[1mmedium:\n"
     ]
    },
    {
     "data": {
      "text/html": [
       "<div>\n",
       "<style scoped>\n",
       "    .dataframe tbody tr th:only-of-type {\n",
       "        vertical-align: middle;\n",
       "    }\n",
       "\n",
       "    .dataframe tbody tr th {\n",
       "        vertical-align: top;\n",
       "    }\n",
       "\n",
       "    .dataframe thead th {\n",
       "        text-align: right;\n",
       "    }\n",
       "</style>\n",
       "<table border=\"1\" class=\"dataframe\">\n",
       "  <thead>\n",
       "    <tr style=\"text-align: right;\">\n",
       "      <th></th>\n",
       "      <th>Average_Fitness</th>\n",
       "    </tr>\n",
       "    <tr>\n",
       "      <th>Mutate</th>\n",
       "      <th></th>\n",
       "    </tr>\n",
       "  </thead>\n",
       "  <tbody>\n",
       "    <tr>\n",
       "      <th>swap_mutation</th>\n",
       "      <td>226.066667</td>\n",
       "    </tr>\n",
       "    <tr>\n",
       "      <th>distinct_mutation</th>\n",
       "      <td>223.426667</td>\n",
       "    </tr>\n",
       "    <tr>\n",
       "      <th>inversion_mutation</th>\n",
       "      <td>214.217778</td>\n",
       "    </tr>\n",
       "  </tbody>\n",
       "</table>\n",
       "</div>"
      ],
      "text/plain": [
       "                    Average_Fitness\n",
       "Mutate                             \n",
       "swap_mutation            226.066667\n",
       "distinct_mutation        223.426667\n",
       "inversion_mutation       214.217778"
      ]
     },
     "metadata": {},
     "output_type": "display_data"
    },
    {
     "name": "stdout",
     "output_type": "stream",
     "text": [
      "\n",
      "\n",
      "\u001b[1mhard:\n"
     ]
    },
    {
     "data": {
      "text/html": [
       "<div>\n",
       "<style scoped>\n",
       "    .dataframe tbody tr th:only-of-type {\n",
       "        vertical-align: middle;\n",
       "    }\n",
       "\n",
       "    .dataframe tbody tr th {\n",
       "        vertical-align: top;\n",
       "    }\n",
       "\n",
       "    .dataframe thead th {\n",
       "        text-align: right;\n",
       "    }\n",
       "</style>\n",
       "<table border=\"1\" class=\"dataframe\">\n",
       "  <thead>\n",
       "    <tr style=\"text-align: right;\">\n",
       "      <th></th>\n",
       "      <th>Average_Fitness</th>\n",
       "    </tr>\n",
       "    <tr>\n",
       "      <th>Mutate</th>\n",
       "      <th></th>\n",
       "    </tr>\n",
       "  </thead>\n",
       "  <tbody>\n",
       "    <tr>\n",
       "      <th>swap_mutation</th>\n",
       "      <td>223.813333</td>\n",
       "    </tr>\n",
       "    <tr>\n",
       "      <th>distinct_mutation</th>\n",
       "      <td>221.977778</td>\n",
       "    </tr>\n",
       "    <tr>\n",
       "      <th>inversion_mutation</th>\n",
       "      <td>210.328889</td>\n",
       "    </tr>\n",
       "  </tbody>\n",
       "</table>\n",
       "</div>"
      ],
      "text/plain": [
       "                    Average_Fitness\n",
       "Mutate                             \n",
       "swap_mutation            223.813333\n",
       "distinct_mutation        221.977778\n",
       "inversion_mutation       210.328889"
      ]
     },
     "metadata": {},
     "output_type": "display_data"
    }
   ],
   "source": [
    "print(\"\\n\\n\\033[1measy:\")\n",
    "display(easy_df.groupby(\"Mutate\").mean().sort_values(\"Average_Fitness\", ascending = False))\n",
    "\n",
    "print(\"\\n\\n\\033[1mmedium:\")\n",
    "display(medium_df.groupby(\"Mutate\").mean().sort_values(\"Average_Fitness\", ascending = False))\n",
    "\n",
    "print(\"\\n\\n\\033[1mhard:\")\n",
    "display(hard_df.groupby(\"Mutate\").mean().sort_values(\"Average_Fitness\", ascending = False))"
   ]
  },
  {
   "cell_type": "code",
   "execution_count": null,
   "id": "coral-attitude",
   "metadata": {},
   "outputs": [],
   "source": []
  },
  {
   "cell_type": "code",
   "execution_count": null,
   "id": "internal-stocks",
   "metadata": {},
   "outputs": [],
   "source": []
  },
  {
   "cell_type": "code",
   "execution_count": null,
   "id": "green-train",
   "metadata": {},
   "outputs": [],
   "source": []
  },
  {
   "cell_type": "code",
   "execution_count": null,
   "id": "confused-gates",
   "metadata": {},
   "outputs": [],
   "source": []
  },
  {
   "cell_type": "code",
   "execution_count": null,
   "id": "sought-charlotte",
   "metadata": {},
   "outputs": [],
   "source": []
  },
  {
   "cell_type": "code",
   "execution_count": null,
   "id": "latest-survey",
   "metadata": {},
   "outputs": [],
   "source": []
  },
  {
   "cell_type": "code",
   "execution_count": null,
   "id": "native-repeat",
   "metadata": {},
   "outputs": [],
   "source": []
  },
  {
   "cell_type": "code",
   "execution_count": null,
   "id": "spare-helicopter",
   "metadata": {},
   "outputs": [],
   "source": []
  },
  {
   "cell_type": "code",
   "execution_count": null,
   "id": "killing-budapest",
   "metadata": {},
   "outputs": [],
   "source": []
  },
  {
   "cell_type": "code",
   "execution_count": null,
   "id": "driving-columbia",
   "metadata": {},
   "outputs": [],
   "source": []
  },
  {
   "cell_type": "code",
   "execution_count": null,
   "id": "narrative-knitting",
   "metadata": {},
   "outputs": [],
   "source": []
  },
  {
   "cell_type": "code",
   "execution_count": null,
   "id": "threatened-speaking",
   "metadata": {},
   "outputs": [],
   "source": []
  },
  {
   "cell_type": "code",
   "execution_count": null,
   "id": "excessive-crystal",
   "metadata": {},
   "outputs": [],
   "source": []
  },
  {
   "cell_type": "code",
   "execution_count": null,
   "id": "matched-technology",
   "metadata": {},
   "outputs": [],
   "source": []
  },
  {
   "cell_type": "code",
   "execution_count": null,
   "id": "monthly-ultimate",
   "metadata": {},
   "outputs": [],
   "source": []
  },
  {
   "cell_type": "code",
   "execution_count": null,
   "id": "respiratory-mistress",
   "metadata": {},
   "outputs": [],
   "source": []
  },
  {
   "cell_type": "code",
   "execution_count": null,
   "id": "blessed-sterling",
   "metadata": {},
   "outputs": [],
   "source": []
  },
  {
   "cell_type": "code",
   "execution_count": null,
   "id": "emotional-simulation",
   "metadata": {},
   "outputs": [],
   "source": []
  },
  {
   "cell_type": "code",
   "execution_count": null,
   "id": "sixth-spare",
   "metadata": {},
   "outputs": [],
   "source": []
  },
  {
   "cell_type": "code",
   "execution_count": null,
   "id": "agricultural-advisory",
   "metadata": {},
   "outputs": [],
   "source": []
  },
  {
   "cell_type": "code",
   "execution_count": null,
   "id": "indirect-tract",
   "metadata": {},
   "outputs": [],
   "source": []
  },
  {
   "cell_type": "code",
   "execution_count": null,
   "id": "statutory-yellow",
   "metadata": {},
   "outputs": [],
   "source": []
  },
  {
   "cell_type": "code",
   "execution_count": null,
   "id": "coral-apollo",
   "metadata": {},
   "outputs": [],
   "source": []
  },
  {
   "cell_type": "code",
   "execution_count": null,
   "id": "inside-moisture",
   "metadata": {},
   "outputs": [],
   "source": []
  },
  {
   "cell_type": "code",
   "execution_count": null,
   "id": "saving-policy",
   "metadata": {},
   "outputs": [],
   "source": []
  }
 ],
 "metadata": {
  "kernelspec": {
   "display_name": "Python 3",
   "language": "python",
   "name": "python3"
  },
  "language_info": {
   "codemirror_mode": {
    "name": "ipython",
    "version": 3
   },
   "file_extension": ".py",
   "mimetype": "text/x-python",
   "name": "python",
   "nbconvert_exporter": "python",
   "pygments_lexer": "ipython3",
   "version": "3.8.2"
  }
 },
 "nbformat": 4,
 "nbformat_minor": 5
}
