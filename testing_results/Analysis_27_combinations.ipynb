{
 "cells": [
  {
   "cell_type": "markdown",
   "id": "solid-monitor",
   "metadata": {},
   "source": [
    "# Analysis of the 27 different combinations of selection, crossover and mutation methods"
   ]
  },
  {
   "cell_type": "code",
   "execution_count": 9,
   "id": "extreme-bernard",
   "metadata": {},
   "outputs": [],
   "source": [
    "import os, shutil\n",
    "import pandas as pd\n",
    "import seaborn as sns\n",
    "import matplotlib.pyplot as plt"
   ]
  },
  {
   "cell_type": "code",
   "execution_count": 10,
   "id": "designed-penetration",
   "metadata": {},
   "outputs": [
    {
     "name": "stdout",
     "output_type": "stream",
     "text": [
      "There are 23 csv files in the directory!\n"
     ]
    }
   ],
   "source": [
    "directory = \"/Users/franz/Downloads/sudoku_solver-main-3/testing_results/27_combinations/\"\n",
    "\n",
    "all_file_names = os.listdir(directory)\n",
    "\n",
    "print(\"There are\", len(all_file_names), \"csv files in the directory!\")"
   ]
  },
  {
   "cell_type": "code",
   "execution_count": 11,
   "id": "better-drinking",
   "metadata": {},
   "outputs": [],
   "source": [
    "rank__pmx_co__swap_mutation = pd.read_csv(directory + \"rank__pmx_co__swap_mutation.csv\")\n",
    "fps__single_point_co__inversion_mutation = pd.read_csv(directory + \"fps__single_point_co__inversion_mutation.csv\")\n",
    "fps__cycle_co__inversion_mutation = pd.read_csv(directory + \"fps__cycle_co__inversion_mutation.csv\")\n",
    "fps__cycle_co__swap_mutation = pd.read_csv(directory + \"fps__cycle_co__swap_mutation.csv\")\n",
    "rank__cycle_co__inversion_mutation = pd.read_csv(directory + \"rank__cycle_co__inversion_mutation.csv\")\n",
    "fps__single_point_co__distinct_mutation = pd.read_csv(directory + \"fps__single_point_co__distinct_mutation.csv\")\n",
    "tournament__pmx_co__swap_mutation = pd.read_csv(directory + \"tournament__pmx_co__swap_mutation.csv\")\n",
    "rank__single_point_co__inversion_mutation = pd.read_csv(directory + \"rank__single_point_co__inversion_mutation.csv\")\n",
    "fps__single_point_co__swap_mutation = pd.read_csv(directory + \"fps__single_point_co__swap_mutation.csv\")\n",
    "rank__pmx_co__distinct_mutation = pd.read_csv(directory + \"rank__pmx_co__distinct_mutation.csv\")\n",
    "tournament__cycle_co__swap_mutation = pd.read_csv(directory + \"tournament__cycle_co__swap_mutation.csv\")\n",
    "tournament__single_point_co__swap_mutation = pd.read_csv(directory + \"tournament__single_point_co__swap_mutation.csv\")\n",
    "tournament__pmx_co__distinct_mutation = pd.read_csv(directory + \"tournament__pmx_co__distinct_mutation.csv\")\n",
    "rank__single_point_co__swap_mutation = pd.read_csv(directory + \"rank__single_point_co__swap_mutation.csv\")\n",
    "fps__pmx_co__inversion_mutation = pd.read_csv(directory + \"fps__pmx_co__inversion_mutation.csv\")\n",
    "fps__pmx_co__swap_mutation = pd.read_csv(directory + \"fps__pmx_co__swap_mutation.csv\")\n",
    "tournament__cycle_co__inversion_mutation = pd.read_csv(directory + \"tournament__cycle_co__inversion_mutation.csv\")\n",
    "tournament__pmx_co__inversion_mutation = pd.read_csv(directory + \"tournament__pmx_co__inversion_mutation.csv\")\n",
    "fps__pmx_co__distinct_mutation = pd.read_csv(directory + \"fps__pmx_co__distinct_mutation.csv\")\n",
    "tournament__single_point_co__inversion_mutation = pd.read_csv(directory + \"tournament__single_point_co__inversion_mutation.csv\")\n",
    "tournament__single_point_co__distinct_mutation = pd.read_csv(directory + \"tournament__single_point_co__distinct_mutation.csv\")\n",
    "rank__pmx_co__inversion_mutation = pd.read_csv(directory + \"rank__pmx_co__inversion_mutation.csv\")\n",
    "rank__single_point_co__distinct_mutation = pd.read_csv(directory + \"rank__single_point_co__distinct_mutation.csv\")"
   ]
  },
  {
   "cell_type": "code",
   "execution_count": 12,
   "id": "confidential-triangle",
   "metadata": {},
   "outputs": [],
   "source": [
    "all_dfs = [rank__pmx_co__swap_mutation,\n",
    " fps__single_point_co__inversion_mutation,\n",
    " fps__cycle_co__inversion_mutation,\n",
    " fps__cycle_co__swap_mutation,\n",
    " rank__cycle_co__inversion_mutation,\n",
    " fps__single_point_co__distinct_mutation,\n",
    " tournament__pmx_co__swap_mutation,\n",
    " rank__single_point_co__inversion_mutation,\n",
    " fps__single_point_co__swap_mutation,\n",
    " rank__pmx_co__distinct_mutation,\n",
    " tournament__cycle_co__swap_mutation,\n",
    " tournament__single_point_co__swap_mutation,\n",
    " tournament__pmx_co__distinct_mutation,\n",
    " rank__single_point_co__swap_mutation,\n",
    " fps__pmx_co__inversion_mutation,\n",
    " fps__pmx_co__swap_mutation,\n",
    " tournament__cycle_co__inversion_mutation,\n",
    " tournament__pmx_co__inversion_mutation,\n",
    " fps__pmx_co__distinct_mutation,\n",
    " tournament__single_point_co__inversion_mutation,\n",
    " tournament__single_point_co__distinct_mutation,\n",
    " rank__pmx_co__inversion_mutation,\n",
    " rank__single_point_co__distinct_mutation]"
   ]
  },
  {
   "cell_type": "markdown",
   "id": "spiritual-globe",
   "metadata": {},
   "source": [
    "## Best Average_Fitness for easy"
   ]
  },
  {
   "cell_type": "code",
   "execution_count": 14,
   "id": "universal-drain",
   "metadata": {},
   "outputs": [
    {
     "data": {
      "text/html": [
       "<div>\n",
       "<style scoped>\n",
       "    .dataframe tbody tr th:only-of-type {\n",
       "        vertical-align: middle;\n",
       "    }\n",
       "\n",
       "    .dataframe tbody tr th {\n",
       "        vertical-align: top;\n",
       "    }\n",
       "\n",
       "    .dataframe thead th {\n",
       "        text-align: right;\n",
       "    }\n",
       "</style>\n",
       "<table border=\"1\" class=\"dataframe\">\n",
       "  <thead>\n",
       "    <tr style=\"text-align: right;\">\n",
       "      <th></th>\n",
       "      <th>Unnamed: 0</th>\n",
       "      <th>R_1</th>\n",
       "      <th>R_2</th>\n",
       "      <th>R_3</th>\n",
       "      <th>R_4</th>\n",
       "      <th>R_5</th>\n",
       "      <th>R_6</th>\n",
       "      <th>R_7</th>\n",
       "      <th>R_8</th>\n",
       "      <th>R_9</th>\n",
       "      <th>...</th>\n",
       "      <th>R_17</th>\n",
       "      <th>R_18</th>\n",
       "      <th>R_19</th>\n",
       "      <th>R_20</th>\n",
       "      <th>R_21</th>\n",
       "      <th>R_22</th>\n",
       "      <th>R_23</th>\n",
       "      <th>R_24</th>\n",
       "      <th>R_25</th>\n",
       "      <th>Average_Fitness</th>\n",
       "    </tr>\n",
       "  </thead>\n",
       "  <tbody>\n",
       "    <tr>\n",
       "      <th>0</th>\n",
       "      <td>easy</td>\n",
       "      <td>241</td>\n",
       "      <td>249</td>\n",
       "      <td>253</td>\n",
       "      <td>250</td>\n",
       "      <td>243</td>\n",
       "      <td>245</td>\n",
       "      <td>239</td>\n",
       "      <td>258</td>\n",
       "      <td>249</td>\n",
       "      <td>...</td>\n",
       "      <td>254</td>\n",
       "      <td>249</td>\n",
       "      <td>243</td>\n",
       "      <td>260</td>\n",
       "      <td>254</td>\n",
       "      <td>251</td>\n",
       "      <td>249</td>\n",
       "      <td>239</td>\n",
       "      <td>260</td>\n",
       "      <td>248.84</td>\n",
       "    </tr>\n",
       "    <tr>\n",
       "      <th>1</th>\n",
       "      <td>medium</td>\n",
       "      <td>243</td>\n",
       "      <td>246</td>\n",
       "      <td>239</td>\n",
       "      <td>253</td>\n",
       "      <td>242</td>\n",
       "      <td>245</td>\n",
       "      <td>239</td>\n",
       "      <td>246</td>\n",
       "      <td>249</td>\n",
       "      <td>...</td>\n",
       "      <td>247</td>\n",
       "      <td>244</td>\n",
       "      <td>246</td>\n",
       "      <td>247</td>\n",
       "      <td>241</td>\n",
       "      <td>250</td>\n",
       "      <td>247</td>\n",
       "      <td>248</td>\n",
       "      <td>242</td>\n",
       "      <td>245.08</td>\n",
       "    </tr>\n",
       "    <tr>\n",
       "      <th>2</th>\n",
       "      <td>hard</td>\n",
       "      <td>247</td>\n",
       "      <td>238</td>\n",
       "      <td>241</td>\n",
       "      <td>247</td>\n",
       "      <td>241</td>\n",
       "      <td>244</td>\n",
       "      <td>240</td>\n",
       "      <td>246</td>\n",
       "      <td>243</td>\n",
       "      <td>...</td>\n",
       "      <td>243</td>\n",
       "      <td>243</td>\n",
       "      <td>247</td>\n",
       "      <td>252</td>\n",
       "      <td>239</td>\n",
       "      <td>243</td>\n",
       "      <td>239</td>\n",
       "      <td>241</td>\n",
       "      <td>249</td>\n",
       "      <td>243.16</td>\n",
       "    </tr>\n",
       "  </tbody>\n",
       "</table>\n",
       "<p>3 rows × 27 columns</p>\n",
       "</div>"
      ],
      "text/plain": [
       "  Unnamed: 0  R_1  R_2  R_3  R_4  R_5  R_6  R_7  R_8  R_9  ...  R_17  R_18  \\\n",
       "0       easy  241  249  253  250  243  245  239  258  249  ...   254   249   \n",
       "1     medium  243  246  239  253  242  245  239  246  249  ...   247   244   \n",
       "2       hard  247  238  241  247  241  244  240  246  243  ...   243   243   \n",
       "\n",
       "   R_19  R_20  R_21  R_22  R_23  R_24  R_25  Average_Fitness  \n",
       "0   243   260   254   251   249   239   260           248.84  \n",
       "1   246   247   241   250   247   248   242           245.08  \n",
       "2   247   252   239   243   239   241   249           243.16  \n",
       "\n",
       "[3 rows x 27 columns]"
      ]
     },
     "execution_count": 14,
     "metadata": {},
     "output_type": "execute_result"
    }
   ],
   "source": [
    "all_dfs[0]"
   ]
  },
  {
   "cell_type": "code",
   "execution_count": 21,
   "id": "choice-export",
   "metadata": {},
   "outputs": [
    {
     "data": {
      "text/plain": [
       "[245.08,\n",
       " 182.08,\n",
       " 181.64,\n",
       " 186.44,\n",
       " 236.84,\n",
       " 188.36,\n",
       " 248.12,\n",
       " 231.04,\n",
       " 187.48,\n",
       " 244.36,\n",
       " 248.8,\n",
       " 249.2,\n",
       " 243.84,\n",
       " 243.92,\n",
       " 181.0,\n",
       " 183.6,\n",
       " 219.16,\n",
       " 231.84,\n",
       " 184.04,\n",
       " 227.72,\n",
       " 243.16,\n",
       " 236.64,\n",
       " 242.6]"
      ]
     },
     "execution_count": 21,
     "metadata": {},
     "output_type": "execute_result"
    }
   ],
   "source": [
    "fitness_scores_for_easy = []\n",
    "\n",
    "for i in range(len(all_dfs)):\n",
    "    fitness_scores_for_easy.append(all_dfs[i][\"Average_Fitness\"][1])\n",
    "    \n",
    "fitness_scores_for_easy"
   ]
  },
  {
   "cell_type": "code",
   "execution_count": null,
   "id": "progressive-praise",
   "metadata": {},
   "outputs": [],
   "source": []
  },
  {
   "cell_type": "code",
   "execution_count": null,
   "id": "anticipated-grade",
   "metadata": {},
   "outputs": [],
   "source": []
  },
  {
   "cell_type": "code",
   "execution_count": null,
   "id": "elect-crazy",
   "metadata": {},
   "outputs": [],
   "source": []
  },
  {
   "cell_type": "code",
   "execution_count": null,
   "id": "protecting-monthly",
   "metadata": {},
   "outputs": [],
   "source": []
  },
  {
   "cell_type": "code",
   "execution_count": null,
   "id": "coupled-mambo",
   "metadata": {},
   "outputs": [],
   "source": []
  },
  {
   "cell_type": "code",
   "execution_count": null,
   "id": "prescription-impossible",
   "metadata": {},
   "outputs": [],
   "source": []
  },
  {
   "cell_type": "code",
   "execution_count": null,
   "id": "early-ottawa",
   "metadata": {},
   "outputs": [],
   "source": []
  },
  {
   "cell_type": "code",
   "execution_count": null,
   "id": "ordered-mitchell",
   "metadata": {},
   "outputs": [],
   "source": []
  },
  {
   "cell_type": "code",
   "execution_count": null,
   "id": "manual-payroll",
   "metadata": {},
   "outputs": [],
   "source": []
  },
  {
   "cell_type": "code",
   "execution_count": null,
   "id": "positive-document",
   "metadata": {},
   "outputs": [],
   "source": []
  },
  {
   "cell_type": "code",
   "execution_count": null,
   "id": "improving-classic",
   "metadata": {},
   "outputs": [],
   "source": []
  },
  {
   "cell_type": "code",
   "execution_count": null,
   "id": "cordless-booth",
   "metadata": {},
   "outputs": [],
   "source": []
  },
  {
   "cell_type": "code",
   "execution_count": null,
   "id": "molecular-scene",
   "metadata": {},
   "outputs": [],
   "source": []
  },
  {
   "cell_type": "code",
   "execution_count": null,
   "id": "dirty-seeking",
   "metadata": {},
   "outputs": [],
   "source": []
  },
  {
   "cell_type": "code",
   "execution_count": null,
   "id": "ceramic-circus",
   "metadata": {},
   "outputs": [],
   "source": []
  },
  {
   "cell_type": "code",
   "execution_count": null,
   "id": "democratic-government",
   "metadata": {},
   "outputs": [],
   "source": []
  },
  {
   "cell_type": "code",
   "execution_count": null,
   "id": "atmospheric-sensitivity",
   "metadata": {},
   "outputs": [],
   "source": []
  },
  {
   "cell_type": "code",
   "execution_count": null,
   "id": "continued-dollar",
   "metadata": {},
   "outputs": [],
   "source": []
  },
  {
   "cell_type": "code",
   "execution_count": null,
   "id": "laughing-constant",
   "metadata": {},
   "outputs": [],
   "source": []
  },
  {
   "cell_type": "code",
   "execution_count": null,
   "id": "indirect-protest",
   "metadata": {},
   "outputs": [],
   "source": []
  },
  {
   "cell_type": "code",
   "execution_count": null,
   "id": "color-explanation",
   "metadata": {},
   "outputs": [],
   "source": []
  },
  {
   "cell_type": "code",
   "execution_count": null,
   "id": "appreciated-marking",
   "metadata": {},
   "outputs": [],
   "source": []
  }
 ],
 "metadata": {
  "kernelspec": {
   "display_name": "Python 3",
   "language": "python",
   "name": "python3"
  },
  "language_info": {
   "codemirror_mode": {
    "name": "ipython",
    "version": 3
   },
   "file_extension": ".py",
   "mimetype": "text/x-python",
   "name": "python",
   "nbconvert_exporter": "python",
   "pygments_lexer": "ipython3",
   "version": "3.8.2"
  }
 },
 "nbformat": 4,
 "nbformat_minor": 5
}
