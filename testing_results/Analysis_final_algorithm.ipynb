{
 "cells": [
  {
   "cell_type": "markdown",
   "id": "prime-biotechnology",
   "metadata": {},
   "source": [
    "# Analysis of the performance of the final algorithm"
   ]
  },
  {
   "cell_type": "code",
   "execution_count": 1,
   "id": "straight-salmon",
   "metadata": {},
   "outputs": [],
   "source": [
    "import os, shutil\n",
    "import pandas as pd\n",
    "import numpy as np\n",
    "import seaborn as sns\n",
    "import matplotlib.pyplot as plt"
   ]
  },
  {
   "cell_type": "code",
   "execution_count": 2,
   "id": "recorded-potter",
   "metadata": {},
   "outputs": [
    {
     "name": "stdout",
     "output_type": "stream",
     "text": [
      "There is 1 csv file in the directory!\n"
     ]
    }
   ],
   "source": [
    "directory = \"/Users/franz/Downloads/sudoku_solver-main-4/testing_results/final_algorithm/\"\n",
    "\n",
    "all_file_names = sorted(os.listdir(directory))\n",
    "try:\n",
    "    all_file_names.remove(\".DS_Store\")\n",
    "except:\n",
    "    pass\n",
    "\n",
    "print(\"There is\", len(all_file_names), \"csv file in the directory!\")"
   ]
  },
  {
   "cell_type": "code",
   "execution_count": 3,
   "id": "incorporate-quick",
   "metadata": {},
   "outputs": [],
   "source": [
    "tournament__pmx_co__swap_mutation__243__200000__co_p__0_8__mu_p__0_7__gens_75 = pd.read_csv(directory + \"tournament__pmx_co__swap_mutation__243__200000__co_p__0_8__mu_p__0_7__gens_75.csv\")"
   ]
  },
  {
   "cell_type": "code",
   "execution_count": 4,
   "id": "separated-louisville",
   "metadata": {},
   "outputs": [
    {
     "data": {
      "text/html": [
       "<div>\n",
       "<style scoped>\n",
       "    .dataframe tbody tr th:only-of-type {\n",
       "        vertical-align: middle;\n",
       "    }\n",
       "\n",
       "    .dataframe tbody tr th {\n",
       "        vertical-align: top;\n",
       "    }\n",
       "\n",
       "    .dataframe thead th {\n",
       "        text-align: right;\n",
       "    }\n",
       "</style>\n",
       "<table border=\"1\" class=\"dataframe\">\n",
       "  <thead>\n",
       "    <tr style=\"text-align: right;\">\n",
       "      <th></th>\n",
       "      <th>Unnamed: 0</th>\n",
       "      <th>R_1</th>\n",
       "      <th>R_2</th>\n",
       "      <th>R_3</th>\n",
       "      <th>R_4</th>\n",
       "      <th>R_5</th>\n",
       "      <th>R_6</th>\n",
       "      <th>R_7</th>\n",
       "      <th>R_8</th>\n",
       "      <th>R_9</th>\n",
       "      <th>...</th>\n",
       "      <th>R_17</th>\n",
       "      <th>R_18</th>\n",
       "      <th>R_19</th>\n",
       "      <th>R_20</th>\n",
       "      <th>R_21</th>\n",
       "      <th>R_22</th>\n",
       "      <th>R_23</th>\n",
       "      <th>R_24</th>\n",
       "      <th>R_25</th>\n",
       "      <th>Average_Fitness</th>\n",
       "    </tr>\n",
       "  </thead>\n",
       "  <tbody>\n",
       "    <tr>\n",
       "      <th>0</th>\n",
       "      <td>easy</td>\n",
       "      <td>243</td>\n",
       "      <td>243</td>\n",
       "      <td>239</td>\n",
       "      <td>243</td>\n",
       "      <td>243</td>\n",
       "      <td>241</td>\n",
       "      <td>243</td>\n",
       "      <td>239</td>\n",
       "      <td>243</td>\n",
       "      <td>...</td>\n",
       "      <td>243</td>\n",
       "      <td>239</td>\n",
       "      <td>241</td>\n",
       "      <td>243</td>\n",
       "      <td>241</td>\n",
       "      <td>243</td>\n",
       "      <td>243</td>\n",
       "      <td>241</td>\n",
       "      <td>243</td>\n",
       "      <td>242.04</td>\n",
       "    </tr>\n",
       "    <tr>\n",
       "      <th>1</th>\n",
       "      <td>medium</td>\n",
       "      <td>241</td>\n",
       "      <td>243</td>\n",
       "      <td>243</td>\n",
       "      <td>243</td>\n",
       "      <td>241</td>\n",
       "      <td>241</td>\n",
       "      <td>238</td>\n",
       "      <td>241</td>\n",
       "      <td>243</td>\n",
       "      <td>...</td>\n",
       "      <td>243</td>\n",
       "      <td>241</td>\n",
       "      <td>243</td>\n",
       "      <td>243</td>\n",
       "      <td>243</td>\n",
       "      <td>243</td>\n",
       "      <td>241</td>\n",
       "      <td>241</td>\n",
       "      <td>243</td>\n",
       "      <td>241.92</td>\n",
       "    </tr>\n",
       "    <tr>\n",
       "      <th>2</th>\n",
       "      <td>hard</td>\n",
       "      <td>241</td>\n",
       "      <td>239</td>\n",
       "      <td>241</td>\n",
       "      <td>239</td>\n",
       "      <td>243</td>\n",
       "      <td>241</td>\n",
       "      <td>241</td>\n",
       "      <td>243</td>\n",
       "      <td>241</td>\n",
       "      <td>...</td>\n",
       "      <td>243</td>\n",
       "      <td>241</td>\n",
       "      <td>241</td>\n",
       "      <td>243</td>\n",
       "      <td>243</td>\n",
       "      <td>241</td>\n",
       "      <td>243</td>\n",
       "      <td>243</td>\n",
       "      <td>243</td>\n",
       "      <td>241.48</td>\n",
       "    </tr>\n",
       "  </tbody>\n",
       "</table>\n",
       "<p>3 rows × 27 columns</p>\n",
       "</div>"
      ],
      "text/plain": [
       "  Unnamed: 0  R_1  R_2  R_3  R_4  R_5  R_6  R_7  R_8  R_9  ...  R_17  R_18  \\\n",
       "0       easy  243  243  239  243  243  241  243  239  243  ...   243   239   \n",
       "1     medium  241  243  243  243  241  241  238  241  243  ...   243   241   \n",
       "2       hard  241  239  241  239  243  241  241  243  241  ...   243   241   \n",
       "\n",
       "   R_19  R_20  R_21  R_22  R_23  R_24  R_25  Average_Fitness  \n",
       "0   241   243   241   243   243   241   243           242.04  \n",
       "1   243   243   243   243   241   241   243           241.92  \n",
       "2   241   243   243   241   243   243   243           241.48  \n",
       "\n",
       "[3 rows x 27 columns]"
      ]
     },
     "execution_count": 4,
     "metadata": {},
     "output_type": "execute_result"
    }
   ],
   "source": [
    "tournament__pmx_co__swap_mutation__243__200000__co_p__0_8__mu_p__0_7__gens_75"
   ]
  },
  {
   "cell_type": "code",
   "execution_count": 5,
   "id": "advance-leader",
   "metadata": {},
   "outputs": [],
   "source": [
    "easy = tournament__pmx_co__swap_mutation__243__200000__co_p__0_8__mu_p__0_7__gens_75.iloc[0,1:25].tolist()\n",
    "medium = tournament__pmx_co__swap_mutation__243__200000__co_p__0_8__mu_p__0_7__gens_75.iloc[1,1:25].tolist()\n",
    "hard = tournament__pmx_co__swap_mutation__243__200000__co_p__0_8__mu_p__0_7__gens_75.iloc[2,1:25].tolist()"
   ]
  },
  {
   "cell_type": "code",
   "execution_count": 6,
   "id": "instant-ensemble",
   "metadata": {},
   "outputs": [
    {
     "name": "stdout",
     "output_type": "stream",
     "text": [
      "\u001b[1measy:\n",
      "15\u001b[0m Sudokus out of 25 got completely solved! \u001b[1m(60.0%)\n",
      "\n",
      "\u001b[1mmedium\n",
      "12\u001b[0m Sudokus out of 25 got completely solved! \u001b[1m(48.0%)\n",
      "\n",
      "\u001b[1mhard\n",
      "9\u001b[0m Sudokus out of 25 got completely solved! \u001b[1m(36.0%)\n"
     ]
    }
   ],
   "source": [
    "print(\"\\033[1measy:\")\n",
    "\n",
    "easy_complete = 0\n",
    "for element in easy:\n",
    "    if element == 243:\n",
    "        easy_complete += 1\n",
    "print(str(easy_complete) + \"\\033[0m Sudokus out of 25 got completely solved! \\033[1m(\" + str(np.round(easy_complete/25*100,2)) + \"%)\")\n",
    "\n",
    "print(\"\\n\\033[1mmedium\")\n",
    "\n",
    "medium_complete = 0\n",
    "for element in medium:\n",
    "    if element == 243:\n",
    "        medium_complete += 1\n",
    "print(str(medium_complete) + \"\\033[0m Sudokus out of 25 got completely solved! \\033[1m(\" + str(np.round(medium_complete/25*100,2)) + \"%)\")\n",
    "\n",
    "print(\"\\n\\033[1mhard\")\n",
    "\n",
    "hard_complete = 0\n",
    "for element in hard:\n",
    "    if element == 243:\n",
    "        hard_complete += 1\n",
    "print(str(hard_complete) + \"\\033[0m Sudokus out of 25 got completely solved! \\033[1m(\" + str(np.round(hard_complete/25*100,2)) + \"%)\")"
   ]
  },
  {
   "cell_type": "code",
   "execution_count": null,
   "id": "disabled-freight",
   "metadata": {},
   "outputs": [],
   "source": []
  },
  {
   "cell_type": "code",
   "execution_count": null,
   "id": "protecting-floating",
   "metadata": {},
   "outputs": [],
   "source": []
  },
  {
   "cell_type": "code",
   "execution_count": null,
   "id": "surprising-phone",
   "metadata": {},
   "outputs": [],
   "source": []
  },
  {
   "cell_type": "code",
   "execution_count": null,
   "id": "confident-project",
   "metadata": {},
   "outputs": [],
   "source": []
  },
  {
   "cell_type": "code",
   "execution_count": null,
   "id": "invalid-bradley",
   "metadata": {},
   "outputs": [],
   "source": []
  },
  {
   "cell_type": "code",
   "execution_count": null,
   "id": "cutting-elephant",
   "metadata": {},
   "outputs": [],
   "source": []
  },
  {
   "cell_type": "code",
   "execution_count": null,
   "id": "corporate-costume",
   "metadata": {},
   "outputs": [],
   "source": []
  },
  {
   "cell_type": "code",
   "execution_count": null,
   "id": "continuing-indiana",
   "metadata": {},
   "outputs": [],
   "source": []
  },
  {
   "cell_type": "code",
   "execution_count": null,
   "id": "valued-alaska",
   "metadata": {},
   "outputs": [],
   "source": []
  },
  {
   "cell_type": "code",
   "execution_count": null,
   "id": "affiliated-fancy",
   "metadata": {},
   "outputs": [],
   "source": []
  },
  {
   "cell_type": "code",
   "execution_count": null,
   "id": "biological-teacher",
   "metadata": {},
   "outputs": [],
   "source": []
  },
  {
   "cell_type": "code",
   "execution_count": null,
   "id": "assisted-warrant",
   "metadata": {},
   "outputs": [],
   "source": []
  },
  {
   "cell_type": "code",
   "execution_count": null,
   "id": "descending-amino",
   "metadata": {},
   "outputs": [],
   "source": []
  },
  {
   "cell_type": "code",
   "execution_count": null,
   "id": "naked-starter",
   "metadata": {},
   "outputs": [],
   "source": []
  },
  {
   "cell_type": "code",
   "execution_count": null,
   "id": "parental-questionnaire",
   "metadata": {},
   "outputs": [],
   "source": []
  },
  {
   "cell_type": "code",
   "execution_count": null,
   "id": "traditional-brazil",
   "metadata": {},
   "outputs": [],
   "source": []
  },
  {
   "cell_type": "code",
   "execution_count": null,
   "id": "beneficial-enhancement",
   "metadata": {},
   "outputs": [],
   "source": []
  },
  {
   "cell_type": "code",
   "execution_count": null,
   "id": "peripheral-shelter",
   "metadata": {},
   "outputs": [],
   "source": []
  },
  {
   "cell_type": "code",
   "execution_count": null,
   "id": "steady-board",
   "metadata": {},
   "outputs": [],
   "source": []
  }
 ],
 "metadata": {
  "kernelspec": {
   "display_name": "Python 3",
   "language": "python",
   "name": "python3"
  },
  "language_info": {
   "codemirror_mode": {
    "name": "ipython",
    "version": 3
   },
   "file_extension": ".py",
   "mimetype": "text/x-python",
   "name": "python",
   "nbconvert_exporter": "python",
   "pygments_lexer": "ipython3",
   "version": "3.8.2"
  }
 },
 "nbformat": 4,
 "nbformat_minor": 5
}
